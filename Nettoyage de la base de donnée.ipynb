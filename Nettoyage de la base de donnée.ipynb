{
 "cells": [
  {
   "cell_type": "code",
   "execution_count": 1,
   "metadata": {},
   "outputs": [],
   "source": [
    "import pandas as pd\n",
    "import matplotlib.pyplot as plt\n",
    "import csv\n",
    "import seaborn as sns\n",
    "import numpy as np\n",
    "from sklearn.preprocessing import LabelEncoder"
   ]
  },
  {
   "cell_type": "markdown",
   "metadata": {},
   "source": [
    "Dans ce notebook, on encode l'ensemble de nos variable avec label encoder."
   ]
  },
  {
   "cell_type": "code",
   "execution_count": 2,
   "metadata": {},
   "outputs": [
    {
     "name": "stderr",
     "output_type": "stream",
     "text": [
      "C:\\Users\\antoi\\OneDrive\\Documents\\lib\\site-packages\\IPython\\core\\interactiveshell.py:3071: DtypeWarning: Columns (52,53,54,55,56,57,59,61,62) have mixed types.Specify dtype option on import or set low_memory=False.\n",
      "  has_raised = await self.run_ast_nodes(code_ast.body, cell_name,\n"
     ]
    }
   ],
   "source": [
    "df = pd.read_csv(\"labonnebase.csv\")"
   ]
  },
  {
   "cell_type": "markdown",
   "metadata": {},
   "source": [
    "#### Encodage de nos données "
   ]
  },
  {
   "cell_type": "code",
   "execution_count": 5,
   "metadata": {},
   "outputs": [],
   "source": [
    "labelencoder=LabelEncoder()\n",
    "#Par ordre alphabétique "
   ]
  },
  {
   "cell_type": "code",
   "execution_count": 6,
   "metadata": {},
   "outputs": [],
   "source": [
    "df['Smokes']=labelencoder.fit_transform(df['Smokes'])\n",
    "\n",
    "df['Availability']=labelencoder.fit_transform(df['Availability'])\n",
    "\n",
    "df['Services_Delivered_As_Promised']=labelencoder.fit_transform(df['Services_Delivered_As_Promised'])\n",
    "\n",
    "df['Build']=labelencoder.fit_transform(df['Build'])\n",
    "\n",
    "df['Ethnicity']=labelencoder.fit_transform(df['Ethnicity'])\n",
    "\n",
    "df['Age']=labelencoder.fit_transform(df['Age'])"
   ]
  },
  {
   "cell_type": "code",
   "execution_count": 7,
   "metadata": {},
   "outputs": [],
   "source": [
    "\n",
    "\n",
    "df['Hair_Color']=labelencoder.fit_transform(df['Hair_Color'])\n"
   ]
  },
  {
   "cell_type": "code",
   "execution_count": 8,
   "metadata": {},
   "outputs": [],
   "source": [
    "df['Eye_Color'] = df['Eye_Color'].astype(str)\n",
    "df['Eye_Color']=labelencoder.fit_transform(df['Eye_Color'])"
   ]
  },
  {
   "cell_type": "code",
   "execution_count": 9,
   "metadata": {},
   "outputs": [],
   "source": [
    "df['Hair_Type']=labelencoder.fit_transform(df['Hair_Type'])\n",
    "\n",
    "df['Piercings']=labelencoder.fit_transform(df['Piercings'])"
   ]
  },
  {
   "cell_type": "code",
   "execution_count": 10,
   "metadata": {},
   "outputs": [],
   "source": [
    "\n",
    "\n",
    "\n",
    "\n",
    "\n",
    "\n",
    "\n",
    "df['Photo Accurate']=labelencoder.fit_transform(df['Photo_Accurate'])\n",
    "\n",
    "df['Height']=labelencoder.fit_transform(df['Height'])"
   ]
  },
  {
   "cell_type": "code",
   "execution_count": 11,
   "metadata": {},
   "outputs": [],
   "source": [
    "df['Hair_Length']=labelencoder.fit_transform(df['Hair_Length'])\n",
    "\n",
    "df['Pussy']=labelencoder.fit_transform(df['Pussy'])"
   ]
  },
  {
   "cell_type": "code",
   "execution_count": 12,
   "metadata": {},
   "outputs": [],
   "source": [
    "\n",
    "df['Breast_Size']=labelencoder.fit_transform(df['Breast_Size'])\n",
    "\n",
    "df['Breast_Cup']=labelencoder.fit_transform(df['Breast_Cup'])\n",
    "\n",
    "df['Breast_Implants']=labelencoder.fit_transform(df['Breast_Implants'])\n",
    "\n",
    "df['Breast_Appearance']=labelencoder.fit_transform(df['Breast_Appearance'])\n",
    "\n",
    "df['Tattoos']=labelencoder.fit_transform(df['Tattoos'])\n",
    "\n",
    "df['Massage']=labelencoder.fit_transform(df['Massage'])\n",
    "\n",
    "df['Sex']=labelencoder.fit_transform(df['Sex'])"
   ]
  },
  {
   "cell_type": "code",
   "execution_count": 13,
   "metadata": {},
   "outputs": [],
   "source": [
    "\n",
    "\n",
    "df['Blow_Job']=labelencoder.fit_transform(df['Blow_Job'])\n",
    "\n",
    "df['Cum_In_Mouth']=labelencoder.fit_transform(df['Cum_In_Mouth'])\n",
    "\n",
    "df['Touch_Pussy']=labelencoder.fit_transform(df['Touch_Pussy'])\n",
    "\n",
    "df['Kiss']=labelencoder.fit_transform(df['Kiss'])\n",
    "\n",
    "df['Two_Girl_Action']=labelencoder.fit_transform(df['Two_Girl_Action'])\n",
    "\n",
    "df['More_Than_One_Guy_At_A_Time']=labelencoder.fit_transform(df['More_Than_One_Guy_At_A_Time'])\n",
    "\n",
    "df['Multiple_Pops_Allowed']=labelencoder.fit_transform(df['Multiple_Pops_Allowed'])\n",
    "\n",
    "df['Squirt']=labelencoder.fit_transform(df['Squirt'])\n",
    "\n",
    "df['Female_Condom']=labelencoder.fit_transform(df['Female_Condom'])\n",
    "\n",
    "df['Massage_Quality']=labelencoder.fit_transform(df['Massage_Quality'])\n",
    "\n",
    "df['S_M']=labelencoder.fit_transform(df['S_M'])\n",
    "\n",
    "df['Lick_Pussy']=labelencoder.fit_transform(df['Lick_Pussy'])\n",
    "\n",
    "df['Anal']=labelencoder.fit_transform(df['Anal'])\n"
   ]
  },
  {
   "cell_type": "code",
   "execution_count": 14,
   "metadata": {},
   "outputs": [],
   "source": [
    "\n",
    "df['Will_Bring_Second_Provider']=labelencoder.fit_transform(df['Will_Bring_Second_Provider'])\n",
    "\n",
    "df['Full_No_Rush_Session']=labelencoder.fit_transform(df['Full_No_Rush_Session'])\n"
   ]
  },
  {
   "cell_type": "code",
   "execution_count": 15,
   "metadata": {},
   "outputs": [],
   "source": [
    "\n",
    "df['Rimming'] = df['Rimming'].astype(str)\n",
    "df['Rimming']=labelencoder.fit_transform(df['Rimming'])\n"
   ]
  },
  {
   "cell_type": "code",
   "execution_count": 16,
   "metadata": {},
   "outputs": [],
   "source": [
    "\n",
    "df['Allow_Film_Or_Picture']=labelencoder.fit_transform(df['Allow_Film_Or_Picture'])"
   ]
  },
  {
   "cell_type": "code",
   "execution_count": 17,
   "metadata": {},
   "outputs": [],
   "source": [
    "\n",
    "\n",
    "df['Transsexual_Functionality'] = df['Transsexual_Functionality'].astype(str)\n",
    "df['Transsexual_Functionality']=labelencoder.fit_transform(df['Transsexual_Functionality'])\n",
    "\n",
    "\n",
    "df['Transsexual_Versatility'] = df['Transsexual_Versatility'].astype(str)\n",
    "df['Transsexual_Versatility']=labelencoder.fit_transform(df['Transsexual_Versatility'])\n",
    "\n",
    "df['Transsexual_Cock_Size'] = df['Transsexual_Cock_Size'].astype(str)\n",
    "df['Transsexual_Cock_Size']=labelencoder.fit_transform(df['Transsexual_Cock_Size'])\n",
    "\n",
    "df['Transsexual_Circumcised'] = df['Transsexual_Circumcised'].astype(str)\n",
    "df['Transsexual_Circumcised']=labelencoder.fit_transform(df['Transsexual_Circumcised'])\n",
    "\n",
    "df['Transsexual_Ejaculates'] = df['Transsexual_Ejaculates'].astype(str)\n",
    "df['Transsexual_Ejaculates']=labelencoder.fit_transform(df['Transsexual_Ejaculates'])\n"
   ]
  },
  {
   "cell_type": "code",
   "execution_count": 18,
   "metadata": {},
   "outputs": [],
   "source": [
    "\n",
    "df['States'] = labelencoder.fit_transform(df['States'])\n",
    "\n",
    "\n",
    "\n",
    "\n"
   ]
  },
  {
   "cell_type": "code",
   "execution_count": 19,
   "metadata": {},
   "outputs": [],
   "source": [
    "df['Languages'] = df['Languages'].astype(str)\n",
    "df['Languages']=labelencoder.fit_transform(df['Languages'])"
   ]
  },
  {
   "cell_type": "code",
   "execution_count": 20,
   "metadata": {},
   "outputs": [],
   "source": [
    "\n",
    "\n",
    "df['Other_City_Serviced']=labelencoder.fit_transform(df['Other_City_Serviced'])"
   ]
  },
  {
   "cell_type": "code",
   "execution_count": 21,
   "metadata": {},
   "outputs": [
    {
     "name": "stdout",
     "output_type": "stream",
     "text": [
      "[\"Don't know\" 'Agency' 'Independent' 'Driver']\n",
      "['Incall' 'Outcall' 'Incall/Outcall' nan]\n",
      "['Yes' 'No']\n",
      "['No' 'Yes' nan \"Don't know\"]\n",
      "['Escort Incall' 'Massage ' 'Escort ' 'Escort Outcall' 'Massage Nude'\n",
      " 'Escort With another Girl' 'Escort And Anal' 'S&M ' 'Escort Second Pop'\n",
      " 'Massage Body to Body' 'Massage and Blow Job' 'Escort And Dinner Date'\n",
      " 'Massage Sensual Domination' 'Massage Hand Job' 'Massage Topless'\n",
      " 'Escort With Another Guy' 'Escort With Couple' 'Massage Tantra'\n",
      " 'S&M With Another Girl']\n"
     ]
    }
   ],
   "source": [
    "\n",
    "\n",
    "\n",
    "\n",
    "#4) Agency\n",
    "print(df['Agency'].unique())\n",
    "\n",
    "agency = {\n",
    "\"Independent\": 0,\n",
    "\"Agency\": 1,\n",
    "\"Driver\":2,\n",
    "\"Don't know\": \"nan\"}\n",
    "# Eviter les mélanges de majuscules minuscules\n",
    "# en mettant tout en minuscule\n",
    "df[\"Agency\"] = df[\"Agency\"].map(agency)\n",
    "\n",
    "\n",
    "#5) City\n",
    "\n",
    "df['City']=labelencoder.fit_transform(df['City'])\n",
    "#Permet de donner des valeurs à toutes les villes différentes\n",
    "\n",
    "df['City']\n",
    "\n",
    "#6) Incall/outcall\n",
    "print(df['Incall'].unique())\n",
    "\n",
    "incall = {\n",
    "\"Incall\": 1,\n",
    "\"Incall/Outcall\": 0.5,\n",
    "\"Outcall\":0,\n",
    "\"nan\": \"nan\"}\n",
    "# Eviter les mélanges de majuscules minuscules\n",
    "# en mettant tout en minuscule\n",
    "df[\"Incall\"] = df[\"Incall\"].map(incall)\n",
    "\n",
    "\n",
    "#7) On Time\n",
    "print(df['On_Time'].unique())\n",
    "\n",
    "df['On_Time'] = df['On_Time'].map(dict(Yes=1, No=0))\n",
    "\n",
    "#8) Porn Star\n",
    "\n",
    "print(df['Porn_Star'].unique())\n",
    "#On va chercher à donner une valeur à don't know=Nan (le faire sur l'ensemble de la base)\n",
    "\n",
    "Porn_to_porn = {\n",
    "\"Yes\": 1,\n",
    "\"No\": 0,\n",
    "\"Don't know\": \"nan\",\n",
    "\"nan\": \"nan\",}\n",
    "# Eviter les mélanges de majuscules minuscules\n",
    "# en mettant tout en minuscule\n",
    "df[\"Porn_Star\"] = df[\"Porn_Star\"].map(Porn_to_porn)\n",
    "\n",
    "\n",
    "\n",
    "\n",
    "#1) Service x\n",
    "print(df['Service_x'].unique())\n",
    "\n",
    "df['Service_x']=labelencoder.fit_transform(df['Service_x'])"
   ]
  },
  {
   "cell_type": "code",
   "execution_count": 23,
   "metadata": {},
   "outputs": [],
   "source": [
    "df.to_csv('base_clean_2.csv')"
   ]
  }
 ],
 "metadata": {
  "kernelspec": {
   "display_name": "Python 3",
   "language": "python",
   "name": "python3"
  },
  "language_info": {
   "codemirror_mode": {
    "name": "ipython",
    "version": 3
   },
   "file_extension": ".py",
   "mimetype": "text/x-python",
   "name": "python",
   "nbconvert_exporter": "python",
   "pygments_lexer": "ipython3",
   "version": "3.8.3"
  }
 },
 "nbformat": 4,
 "nbformat_minor": 4
}
