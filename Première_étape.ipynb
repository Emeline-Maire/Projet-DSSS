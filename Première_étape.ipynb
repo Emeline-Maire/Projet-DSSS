{
 "cells": [
  {
   "cell_type": "code",
   "execution_count": 1,
   "metadata": {},
   "outputs": [],
   "source": [
    "import pandas as pd\n",
    "import matplotlib.pyplot as plt\n",
    "import csv\n",
    "import seaborn as sns\n",
    "import numpy as np\n"
   ]
  },
  {
   "cell_type": "markdown",
   "metadata": {},
   "source": [
    "### Création du dataframe"
   ]
  },
  {
   "cell_type": "markdown",
   "metadata": {},
   "source": [
    "Dans ce premier Notebook, on crée notre dataframe en regroupant l'ensemble des données scrappées."
   ]
  },
  {
   "cell_type": "code",
   "execution_count": 2,
   "metadata": {},
   "outputs": [],
   "source": [
    "df = pd.read_csv(\"df.csv\")\n",
    "df1 = pd.read_csv('cis1')\n",
    "df2 = pd.read_csv('cis2')\n",
    "df3 = pd.read_csv('cis3')\n",
    "df4 = pd.read_csv('cis4')\n",
    "df5 = pd.read_csv('cis5')\n",
    "df6 = pd.read_csv('cis6')\n",
    "df7 = pd.read_csv('cis7')"
   ]
  },
  {
   "cell_type": "code",
   "execution_count": 3,
   "metadata": {},
   "outputs": [],
   "source": [
    "frames = [df, df1, df2, df3, df4, df5, df6, df7]"
   ]
  },
  {
   "cell_type": "code",
   "execution_count": 4,
   "metadata": {},
   "outputs": [],
   "source": [
    "df = pd.concat(frames)"
   ]
  },
  {
   "cell_type": "markdown",
   "metadata": {},
   "source": [
    "### Traitement de variables"
   ]
  },
  {
   "cell_type": "markdown",
   "metadata": {},
   "source": [
    "Ensuite, on traite la variable de prix (on enlève les outliers)"
   ]
  },
  {
   "cell_type": "code",
   "execution_count": 5,
   "metadata": {},
   "outputs": [
    {
     "name": "stdout",
     "output_type": "stream",
     "text": [
      "['$200' '$150' '$300' '$130' '$500' '$400' '$600' '$250' '$1000' '$100'\n",
      " '$350' '$90' '$165' '$140' '$2' '$160' '$190' '$120' '$240' '$450' '$180'\n",
      " '$50' '$0' '$40' '$380' '$950' '$60' '$225' '$260' '$1500' '$80' '$700'\n",
      " '$2000' '$550' '$170' '$125' '$220' '$900' '$175' '$95' '$360' '$70'\n",
      " '$65' '$85' '$45' '$325' '$280' '$169' '$800' '$3' '$110' '$35' '$275'\n",
      " '$750' '$209' '$480' '$3000' '$650' '$6000' '$15000' '$1200' '$7000'\n",
      " '$145' '$75' '$200000' '$2500' '$245' '$135' '$1300' '$105' '$250000'\n",
      " '$5000' '$210000' '$230' '$310' '$35000' '$460' '$25' '$330' '$320'\n",
      " '$340' '$30' '$189' '$195' '$375' '$199' '$210' '$215' '$115' '$285' nan\n",
      " '$270' '$155' '$420' '$370' '$185' '$640' '$1700' '$1100' '$575' '$410'\n",
      " '$1320' '$8000' '$2400' '$2200' '$1600' '$470' '$2100' '$244' '$430'\n",
      " '$1800' '$1400' '$5500' '$850' '$560' '$4500' '$10000' '$510' '$440'\n",
      " '$4000' '$25000' '$525' '$425' '$1900' '$2300' '$725' '$618' '$2600'\n",
      " '$660' '$295' '$290' '$40000' '$30800' '$12000' '$4' '$2700' '$89'\n",
      " '$32000' '$30000' '$872' '$490' '$68' '$3750' '$1' '$530' '$5000000'\n",
      " '$475' '$1350' '$100000' '$9000' '$3200' '$1045' '$540' '$520' '$599'\n",
      " '$19700' '$580' '$359' '$2800' '$385' '$255' '$2150' '$265' '$205' '$920'\n",
      " '$235' '$240000' '$218' '$111' '$183' '$680' '$6200' '$620' '$16000'\n",
      " '$760' '$217' '$3500' '$4600' '$7200' '$26' '$690' '$204' '$960' '$20'\n",
      " '$124' '$369' '$1150' '$1040' '$810' '$875' '$9600' '$3300' '$38600'\n",
      " '$315' '$345' '$24700' '$1050' '$33000' '$22000' '$28000' '$45000'\n",
      " '$290000' '$60000' '$570' '$57000' '$1450' '$79' '$37000' '$20000'\n",
      " '$17000' '$740' '$42000' '$980' '$405' '$36000' '$14000' '$3100' '$390'\n",
      " '$780' '$1075' '$55' '$380000' '$24000' '$930' '$26000000' '$1085' '$262'\n",
      " '$445' '$50000' '$1520' '$1380' '$188' '$159' '$99' '$176' '$1120' '$675'\n",
      " '$625' '$3050' '$158' '$305' '$3600' '$590' '$1250' '$141' '$212' '$207']\n"
     ]
    }
   ],
   "source": [
    "print(df['Price'].unique())\n",
    "df['Price'] = df['Price'].astype(str)\n",
    "df['Price']=[s.lstrip('$') for s in df['Price']]\n"
   ]
  },
  {
   "cell_type": "code",
   "execution_count": 6,
   "metadata": {},
   "outputs": [],
   "source": [
    "\n",
    "df =df[df[\"Price\"]!= 'nan']"
   ]
  },
  {
   "cell_type": "code",
   "execution_count": 7,
   "metadata": {},
   "outputs": [],
   "source": [
    "\n",
    "df['Price']=pd.to_numeric(df['Price'])\n"
   ]
  },
  {
   "cell_type": "code",
   "execution_count": 8,
   "metadata": {},
   "outputs": [],
   "source": [
    "\n",
    "\n",
    "df = df.loc[(df[\"Price\"] < 50000)]\n",
    "\n",
    "df = df.loc[(df[\"Price\"] > 9)]\n",
    "\n",
    "df.drop([\"ID\"], axis = 1, inplace = True) "
   ]
  },
  {
   "cell_type": "code",
   "execution_count": 9,
   "metadata": {},
   "outputs": [
    {
     "name": "stdout",
     "output_type": "stream",
     "text": [
      "['30 minutes' '60 minutes' '45 minutes' '9 hours' '1 hour 30 minutes'\n",
      " '3 hours' '2 hours' '15 minutes' '4 hours' '10 hours' '45 Minutes'\n",
      " '2 days' '60 minutes ' '15 Minutes' '12 hours' '3 days' '45 Minutes '\n",
      " '60 Minutes' '6 hours' '5 hours' '8 hours' '1 day' '30 Minutes' '4 days'\n",
      " nan]\n"
     ]
    }
   ],
   "source": [
    "#2) Length\n",
    "print(df['Length'].unique())\n",
    "\n",
    "Length_to_length= {\n",
    "\"30 minutes\": 30,\n",
    "\"60 minutes\": 60,\n",
    "\"nan\":\"nan\",\n",
    "\"9 hours\": 540,\n",
    "'1 hour 30 minutes':90,\n",
    "\"3 hours\":180,\n",
    "'2 hours':120,\n",
    "'15 minutes':15,\n",
    "'4 hours' :240,\n",
    "'10 hours':600,\n",
    "'45 Minutes':45,\n",
    "'2 days': 2880,\n",
    "'60 minutes ':60,\n",
    "'15 Minutes':15,\n",
    "'12 hours':720 ,\n",
    "'3 days':4320,\n",
    "'45 minutes':45,\n",
    "'45 Minutes ':45,\n",
    "'60 Minutes': 60,\n",
    "'6 hours' : 360,\n",
    "'5 hours' : 300,\n",
    "'8 hours': 480,\n",
    "'1 day': 1440,\n",
    "'30 Minutes': 30,\n",
    "'4 days': 5760 }\n",
    "\n",
    "df[\"Length\"] = df[\"Length\"].map(Length_to_length)"
   ]
  },
  {
   "cell_type": "markdown",
   "metadata": {},
   "source": [
    "On crée une variable d'état (pour les Etats-Unis)"
   ]
  },
  {
   "cell_type": "code",
   "execution_count": 10,
   "metadata": {},
   "outputs": [
    {
     "name": "stderr",
     "output_type": "stream",
     "text": [
      "C:\\Users\\antoi\\OneDrive\\Documents\\lib\\site-packages\\pandas\\core\\indexing.py:671: SettingWithCopyWarning: \n",
      "A value is trying to be set on a copy of a slice from a DataFrame\n",
      "\n",
      "See the caveats in the documentation: https://pandas.pydata.org/pandas-docs/stable/user_guide/indexing.html#returning-a-view-versus-a-copy\n",
      "  self._setitem_with_indexer(indexer, value)\n"
     ]
    }
   ],
   "source": [
    "df['States']=[text.partition(',')[2] for text in df['City']]\n",
    "df.loc[df[\"States\"] == \" D.C., DC\", \"States\"] = ' DC'\n",
    "\n",
    "### La variable States garde soit le pays pour les villes hors des Etats-Unis soit l'Etat\n",
    "\n",
    "\n",
    "df['pays'] = 0\n",
    "for i in range(len(df['States'])) : \n",
    "    if len(df['States'].iloc[i]) == 3 : \n",
    "        df['pays'].iloc[i] = 'US'\n",
    "    elif len(df['States'].iloc[i]) >2 :\n",
    "        df['pays'].iloc[i] = df['States'].iloc[i]"
   ]
  },
  {
   "cell_type": "markdown",
   "metadata": {},
   "source": [
    "### Renommer les variables"
   ]
  },
  {
   "cell_type": "code",
   "execution_count": 11,
   "metadata": {},
   "outputs": [],
   "source": [
    "df.rename(columns={'Incall/Outcall': 'Incall'},inplace=True)\n",
    "\n",
    "df.rename(columns={'On Time': 'On_Time'},inplace=True)\n",
    "df.rename(columns={'Porn Star': 'Porn_Star'},inplace=True)\n",
    "df.rename(columns={'Phone Type': 'Phone_Type'},inplace=True)\n",
    "df.rename(columns={'Services Delivered As Promised': 'Services_Delivered_As_Promised'},inplace=True)\n",
    "df.rename(columns={'Eye Color': 'Eye_Color'},inplace=True)\n",
    "df.rename(columns={'Hair Color': 'Hair_Color'},inplace=True)\n",
    "df.rename(columns={'Hair Type': 'Hair_Type'},inplace=True)\n",
    "df.rename(columns={'Hair Length': 'Hair_Length'},inplace=True)\n",
    "df.rename(columns={'Photo Accurate': 'Photo_Accurate'},inplace=True)\n",
    "df.rename(columns={'Breast Size': 'Breast_Size'},inplace=True)\n",
    "df.rename(columns={'Breast Cup': 'Breast_Cup'},inplace=True)\n",
    "df.rename(columns={'Breast Appearance': 'Breast_Appearance'},inplace=True)\n",
    "df.rename(columns={'Blow Job': 'Blow_Job'},inplace=True)\n",
    "df.rename(columns={'Cum In Mouth': 'Cum_In_Mouth'},inplace=True)\n",
    "df.rename(columns={'Touch Pussy': 'Touch_Pussy'},inplace=True)\n",
    "df.rename(columns={'Two Girl Action': 'Two_Girl_Action'},inplace=True)\n",
    "df.rename(columns={'More Than One Guy At A Time': 'More_Than_One_Guy_At_A_Time'},inplace=True)\n",
    "df.rename(columns={'Multiple Pops Allowed': 'Multiple_Pops_Allowed'},inplace=True)\n",
    "df.rename(columns={'Female Condom': 'Female_Condom'},inplace=True)\n",
    "df.rename(columns={'Massage Quality': 'Massage_Quality'},inplace=True)\n",
    "df.rename(columns={'S&M': 'S_M'},inplace=True)\n",
    "df.rename(columns={'Lick Pussy': 'Lick_Pussy'},inplace=True)\n",
    "df.rename(columns={'Will Bring Second Provider': 'Will_Bring_Second_Provider'},inplace=True)\n",
    "df.rename(columns={'Blow Job': 'Blow_Job'},inplace=True)\n",
    "df.rename(columns={'Full, No-Rush Session': 'Full_No_Rush_Session'},inplace=True)\n",
    "df.rename(columns={'Allow Film Or Picture': 'Allow_Film_Or_Picture'},inplace=True)\n",
    "df.rename(columns={'Unnamed: 55': 'service_a'},inplace=True)\n",
    "df.rename(columns={'Transsexual Functionality': 'Transsexual_Functionality'},inplace=True)\n",
    "\n",
    "df.rename(columns={'Transsexual Cock Size (when Erect)': 'Transsexual_Cock_Size'},inplace=True)\n",
    "df.rename(columns={'Transsexual Circumcised': 'Transsexual_Circumcised'},inplace=True)\n",
    "df.rename(columns={'Transsexual Ejaculates': 'Transsexual_Ejaculates'},inplace=True)\n",
    "df.rename(columns={'Agency Name': 'Agency_Name'},inplace=True)\n",
    "df.rename(columns={'Unnamed: 56': 'service_b'},inplace=True)\n",
    "\n",
    "\n",
    "df.rename(columns={'Breast Implants': 'Breast_Implants'},inplace=True)\n",
    "\n",
    "df.rename(columns={'Other City Serviced': 'Other_City_Serviced'},inplace=True)\n",
    "\n",
    "\n",
    "df.rename(columns={'Unnamed: 58': 'service_c'},inplace=True)\n",
    "df.rename(columns={'Unnamed: 57': 'service_d'},inplace=True)\n",
    "\n",
    "df.rename(columns={'Transsexual Versatility': 'Transsexual_Versatility'},inplace=True)"
   ]
  },
  {
   "cell_type": "code",
   "execution_count": 12,
   "metadata": {},
   "outputs": [],
   "source": [
    "df.to_csv('base_clean.csv')"
   ]
  }
 ],
 "metadata": {
  "kernelspec": {
   "display_name": "Python 3",
   "language": "python",
   "name": "python3"
  },
  "language_info": {
   "codemirror_mode": {
    "name": "ipython",
    "version": 3
   },
   "file_extension": ".py",
   "mimetype": "text/x-python",
   "name": "python",
   "nbconvert_exporter": "python",
   "pygments_lexer": "ipython3",
   "version": "3.8.3"
  }
 },
 "nbformat": 4,
 "nbformat_minor": 4
}
